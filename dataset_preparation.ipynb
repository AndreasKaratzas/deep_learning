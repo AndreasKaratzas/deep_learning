{
 "cells": [
  {
   "cell_type": "markdown",
   "metadata": {},
   "source": [
    "# Προεπεξεργασία"
   ]
  },
  {
   "cell_type": "markdown",
   "metadata": {},
   "source": [
    "#### Το τετράδιο αυτό φτιάχτηκε για το πρώτο μέρος της εργασίας, που είναι η προεπεξεργασία των δεδομένων με τα οποία θα εκπαιδεύσουμε αργότερα το νευρωνικό δίκτυο."
   ]
  },
  {
   "cell_type": "markdown",
   "metadata": {},
   "source": [
    "#### Αρχικά, ορίζουμε τις βιβλιοθήκες που θα χρειαστούμε για την προεπεξεργασία. Η βιβλιοθήκη __time__ βοηθάει στη χρονομέτρηση εκτέλεσης κάποιου μέρους του κώδικα. Οι βιβλιοθήκες __numpy__ και __pandas__ κάνουν πιο εύκολη την προεπεξεργασία. Τέλος, η __sklearn__ χρησιμοποιήθηκε για την κανονικοποίηση."
   ]
  },
  {
   "cell_type": "code",
   "execution_count": 1,
   "metadata": {},
   "outputs": [],
   "source": [
    "import time\n",
    "import numpy\n",
    "import pandas\n",
    "import sklearn.preprocessing"
   ]
  },
  {
   "cell_type": "markdown",
   "metadata": {},
   "source": [
    "#### Είμαστε πλέον έτοιμοι για την εισαγωγή των δεδομένων στο πρόγραμμά μας. Τα δεδομένα μας θα τα εισάγουμε με τη μορφή dataframe, έτσι ώστε να μπορούμε να τα διαχειριστούμε πιο εύκολα. To αρχείο μας ονομάζεται __\"u.data\"__ και παρατηρούμε ότι το τροφοδοτούμε με __relative path__ στη συνάρτηση __read_csv__. Αν το αρχείο δεν είναι στον ίδιο φάκελο με το παρόν τετράδιο, τότε θα πρέπει να αντικατασταθεί η __relative path__ μορφή που υπάρχει παρακάτω από το __absolute path__ του αρχείου __\"u.data\"__. Επίσης, χρησιμοποιούμε ως διαχωριστικό χαρακτήρα το __tab__, λόγω της δομής του αρχείου. Τέλος, δεν ορίζουμε κεφαλίδες ακόμα για τις στήλες του __dataframe__."
   ]
  },
  {
   "cell_type": "code",
   "execution_count": 2,
   "metadata": {},
   "outputs": [],
   "source": [
    "df_data = pandas.read_csv( \"u.data\", delimiter = \"\\t\", header = None )"
   ]
  },
  {
   "cell_type": "markdown",
   "metadata": {},
   "source": [
    "#### Έχοντας εισάγει στο πρόγραμμά μας το σύνολο δεδομένων που θέλουμε να επεξεργαστούμε, ορίζουμε τα ονόματα των στηλών του __dataframe__. Έτσι, το __indexing__ θα γίνει ευκολότερο μετά."
   ]
  },
  {
   "cell_type": "code",
   "execution_count": 3,
   "metadata": {},
   "outputs": [],
   "source": [
    "df_data.columns = [\"userid\", \"movieid\", \"rating\", \"timestamp\"]"
   ]
  },
  {
   "cell_type": "markdown",
   "metadata": {},
   "source": [
    "#### Πατατηρούμε από την άσκηση ότι το __column timestamp__ δε θα μας χρειαστεί, κι άρα μπορούμε να το διαγράψουμε."
   ]
  },
  {
   "cell_type": "code",
   "execution_count": 4,
   "metadata": {},
   "outputs": [],
   "source": [
    "df_data.drop(\"timestamp\", inplace = True, axis = 1)"
   ]
  },
  {
   "cell_type": "markdown",
   "metadata": {},
   "source": [
    "#### Διατάσουμε τις σειρές σύμφωνα με αύξουσα σειρά και κριτήριο τη στήλη __userid__. Αυτό θα μας επιτρέψει στη συνέχεια να κάνουμε __προχωρημένο indexing__."
   ]
  },
  {
   "cell_type": "code",
   "execution_count": 5,
   "metadata": {},
   "outputs": [],
   "source": [
    "df_data_sorted_by_user = df_data.sort_values(by=['userid'])"
   ]
  },
  {
   "cell_type": "markdown",
   "metadata": {},
   "source": [
    "#### Το datraframe μας είναι όπως παρακάτω."
   ]
  },
  {
   "cell_type": "code",
   "execution_count": 6,
   "metadata": {},
   "outputs": [
    {
     "data": {
      "text/html": [
       "<div>\n",
       "<style scoped>\n",
       "    .dataframe tbody tr th:only-of-type {\n",
       "        vertical-align: middle;\n",
       "    }\n",
       "\n",
       "    .dataframe tbody tr th {\n",
       "        vertical-align: top;\n",
       "    }\n",
       "\n",
       "    .dataframe thead th {\n",
       "        text-align: right;\n",
       "    }\n",
       "</style>\n",
       "<table border=\"1\" class=\"dataframe\">\n",
       "  <thead>\n",
       "    <tr style=\"text-align: right;\">\n",
       "      <th></th>\n",
       "      <th>userid</th>\n",
       "      <th>movieid</th>\n",
       "      <th>rating</th>\n",
       "    </tr>\n",
       "  </thead>\n",
       "  <tbody>\n",
       "    <tr>\n",
       "      <th>66567</th>\n",
       "      <td>1</td>\n",
       "      <td>55</td>\n",
       "      <td>5</td>\n",
       "    </tr>\n",
       "    <tr>\n",
       "      <th>62820</th>\n",
       "      <td>1</td>\n",
       "      <td>203</td>\n",
       "      <td>4</td>\n",
       "    </tr>\n",
       "    <tr>\n",
       "      <th>10207</th>\n",
       "      <td>1</td>\n",
       "      <td>183</td>\n",
       "      <td>5</td>\n",
       "    </tr>\n",
       "    <tr>\n",
       "      <th>9971</th>\n",
       "      <td>1</td>\n",
       "      <td>150</td>\n",
       "      <td>5</td>\n",
       "    </tr>\n",
       "    <tr>\n",
       "      <th>22496</th>\n",
       "      <td>1</td>\n",
       "      <td>68</td>\n",
       "      <td>4</td>\n",
       "    </tr>\n",
       "    <tr>\n",
       "      <th>...</th>\n",
       "      <td>...</td>\n",
       "      <td>...</td>\n",
       "      <td>...</td>\n",
       "    </tr>\n",
       "    <tr>\n",
       "      <th>96823</th>\n",
       "      <td>943</td>\n",
       "      <td>427</td>\n",
       "      <td>4</td>\n",
       "    </tr>\n",
       "    <tr>\n",
       "      <th>70902</th>\n",
       "      <td>943</td>\n",
       "      <td>12</td>\n",
       "      <td>5</td>\n",
       "    </tr>\n",
       "    <tr>\n",
       "      <th>84518</th>\n",
       "      <td>943</td>\n",
       "      <td>284</td>\n",
       "      <td>2</td>\n",
       "    </tr>\n",
       "    <tr>\n",
       "      <th>72321</th>\n",
       "      <td>943</td>\n",
       "      <td>62</td>\n",
       "      <td>3</td>\n",
       "    </tr>\n",
       "    <tr>\n",
       "      <th>70713</th>\n",
       "      <td>943</td>\n",
       "      <td>210</td>\n",
       "      <td>4</td>\n",
       "    </tr>\n",
       "  </tbody>\n",
       "</table>\n",
       "<p>100000 rows × 3 columns</p>\n",
       "</div>"
      ],
      "text/plain": [
       "       userid  movieid  rating\n",
       "66567       1       55       5\n",
       "62820       1      203       4\n",
       "10207       1      183       5\n",
       "9971        1      150       5\n",
       "22496       1       68       4\n",
       "...       ...      ...     ...\n",
       "96823     943      427       4\n",
       "70902     943       12       5\n",
       "84518     943      284       2\n",
       "72321     943       62       3\n",
       "70713     943      210       4\n",
       "\n",
       "[100000 rows x 3 columns]"
      ]
     },
     "execution_count": 6,
     "metadata": {},
     "output_type": "execute_result"
    }
   ],
   "source": [
    "df_data_sorted_by_user"
   ]
  },
  {
   "cell_type": "markdown",
   "metadata": {},
   "source": [
    "#### Τώρα θα ομαδοποιήσουμε τις σειρές που έχουν κοινό __userid__ κάνοντας έτσι ακόμα ευκολότερη τη διαχείρηση του dataframe. Αυτό είναι το βήμα του προχωρημένου indexing."
   ]
  },
  {
   "cell_type": "code",
   "execution_count": 7,
   "metadata": {},
   "outputs": [],
   "source": [
    "df_data_indexed_by_user = df_data_sorted_by_user.set_index(['userid', 'movieid'])"
   ]
  },
  {
   "cell_type": "markdown",
   "metadata": {},
   "source": [
    "#### Οπότε πλέον το dataframe μας είναι όπως παρακάτω."
   ]
  },
  {
   "cell_type": "code",
   "execution_count": 8,
   "metadata": {},
   "outputs": [
    {
     "data": {
      "text/html": [
       "<div>\n",
       "<style scoped>\n",
       "    .dataframe tbody tr th:only-of-type {\n",
       "        vertical-align: middle;\n",
       "    }\n",
       "\n",
       "    .dataframe tbody tr th {\n",
       "        vertical-align: top;\n",
       "    }\n",
       "\n",
       "    .dataframe thead th {\n",
       "        text-align: right;\n",
       "    }\n",
       "</style>\n",
       "<table border=\"1\" class=\"dataframe\">\n",
       "  <thead>\n",
       "    <tr style=\"text-align: right;\">\n",
       "      <th></th>\n",
       "      <th></th>\n",
       "      <th>rating</th>\n",
       "    </tr>\n",
       "    <tr>\n",
       "      <th>userid</th>\n",
       "      <th>movieid</th>\n",
       "      <th></th>\n",
       "    </tr>\n",
       "  </thead>\n",
       "  <tbody>\n",
       "    <tr>\n",
       "      <th rowspan=\"5\" valign=\"top\">1</th>\n",
       "      <th>55</th>\n",
       "      <td>5</td>\n",
       "    </tr>\n",
       "    <tr>\n",
       "      <th>203</th>\n",
       "      <td>4</td>\n",
       "    </tr>\n",
       "    <tr>\n",
       "      <th>183</th>\n",
       "      <td>5</td>\n",
       "    </tr>\n",
       "    <tr>\n",
       "      <th>150</th>\n",
       "      <td>5</td>\n",
       "    </tr>\n",
       "    <tr>\n",
       "      <th>68</th>\n",
       "      <td>4</td>\n",
       "    </tr>\n",
       "    <tr>\n",
       "      <th>...</th>\n",
       "      <th>...</th>\n",
       "      <td>...</td>\n",
       "    </tr>\n",
       "    <tr>\n",
       "      <th rowspan=\"5\" valign=\"top\">943</th>\n",
       "      <th>427</th>\n",
       "      <td>4</td>\n",
       "    </tr>\n",
       "    <tr>\n",
       "      <th>12</th>\n",
       "      <td>5</td>\n",
       "    </tr>\n",
       "    <tr>\n",
       "      <th>284</th>\n",
       "      <td>2</td>\n",
       "    </tr>\n",
       "    <tr>\n",
       "      <th>62</th>\n",
       "      <td>3</td>\n",
       "    </tr>\n",
       "    <tr>\n",
       "      <th>210</th>\n",
       "      <td>4</td>\n",
       "    </tr>\n",
       "  </tbody>\n",
       "</table>\n",
       "<p>100000 rows × 1 columns</p>\n",
       "</div>"
      ],
      "text/plain": [
       "                rating\n",
       "userid movieid        \n",
       "1      55            5\n",
       "       203           4\n",
       "       183           5\n",
       "       150           5\n",
       "       68            4\n",
       "...                ...\n",
       "943    427           4\n",
       "       12            5\n",
       "       284           2\n",
       "       62            3\n",
       "       210           4\n",
       "\n",
       "[100000 rows x 1 columns]"
      ]
     },
     "execution_count": 8,
     "metadata": {},
     "output_type": "execute_result"
    }
   ],
   "source": [
    "df_data_indexed_by_user"
   ]
  },
  {
   "cell_type": "markdown",
   "metadata": {},
   "source": [
    "#### Ένα από τα ερωτήματα της άσκησης είναι και η __αφαίρεση του μέσου__ όρου από όλες τις (δοσμένες) βαθμολογίες. Για να γίνει αυτό, θα υπολογήσουμε αρχικά από το dataframe που έχουμε το μέσο rating για κάθε χρήστη. "
   ]
  },
  {
   "cell_type": "code",
   "execution_count": 9,
   "metadata": {},
   "outputs": [],
   "source": [
    "df_mean_ratings = df_data_indexed_by_user.mean(level='userid')"
   ]
  },
  {
   "cell_type": "markdown",
   "metadata": {},
   "source": [
    "#### Οι μέσοι όροι ανά χρήστη είναι όπως παρακάτω."
   ]
  },
  {
   "cell_type": "code",
   "execution_count": 10,
   "metadata": {},
   "outputs": [
    {
     "data": {
      "text/html": [
       "<div>\n",
       "<style scoped>\n",
       "    .dataframe tbody tr th:only-of-type {\n",
       "        vertical-align: middle;\n",
       "    }\n",
       "\n",
       "    .dataframe tbody tr th {\n",
       "        vertical-align: top;\n",
       "    }\n",
       "\n",
       "    .dataframe thead th {\n",
       "        text-align: right;\n",
       "    }\n",
       "</style>\n",
       "<table border=\"1\" class=\"dataframe\">\n",
       "  <thead>\n",
       "    <tr style=\"text-align: right;\">\n",
       "      <th></th>\n",
       "      <th>rating</th>\n",
       "    </tr>\n",
       "    <tr>\n",
       "      <th>userid</th>\n",
       "      <th></th>\n",
       "    </tr>\n",
       "  </thead>\n",
       "  <tbody>\n",
       "    <tr>\n",
       "      <th>1</th>\n",
       "      <td>3.610294</td>\n",
       "    </tr>\n",
       "    <tr>\n",
       "      <th>2</th>\n",
       "      <td>3.709677</td>\n",
       "    </tr>\n",
       "    <tr>\n",
       "      <th>3</th>\n",
       "      <td>2.796296</td>\n",
       "    </tr>\n",
       "    <tr>\n",
       "      <th>4</th>\n",
       "      <td>4.333333</td>\n",
       "    </tr>\n",
       "    <tr>\n",
       "      <th>5</th>\n",
       "      <td>2.874286</td>\n",
       "    </tr>\n",
       "    <tr>\n",
       "      <th>...</th>\n",
       "      <td>...</td>\n",
       "    </tr>\n",
       "    <tr>\n",
       "      <th>939</th>\n",
       "      <td>4.265306</td>\n",
       "    </tr>\n",
       "    <tr>\n",
       "      <th>940</th>\n",
       "      <td>3.457944</td>\n",
       "    </tr>\n",
       "    <tr>\n",
       "      <th>941</th>\n",
       "      <td>4.045455</td>\n",
       "    </tr>\n",
       "    <tr>\n",
       "      <th>942</th>\n",
       "      <td>4.265823</td>\n",
       "    </tr>\n",
       "    <tr>\n",
       "      <th>943</th>\n",
       "      <td>3.410714</td>\n",
       "    </tr>\n",
       "  </tbody>\n",
       "</table>\n",
       "<p>943 rows × 1 columns</p>\n",
       "</div>"
      ],
      "text/plain": [
       "          rating\n",
       "userid          \n",
       "1       3.610294\n",
       "2       3.709677\n",
       "3       2.796296\n",
       "4       4.333333\n",
       "5       2.874286\n",
       "...          ...\n",
       "939     4.265306\n",
       "940     3.457944\n",
       "941     4.045455\n",
       "942     4.265823\n",
       "943     3.410714\n",
       "\n",
       "[943 rows x 1 columns]"
      ]
     },
     "execution_count": 10,
     "metadata": {},
     "output_type": "execute_result"
    }
   ],
   "source": [
    "df_mean_ratings"
   ]
  },
  {
   "cell_type": "markdown",
   "metadata": {},
   "source": [
    "#### Τώρα περνάμε στο ερώτημα της __συμπλήρωσης__ των __ελλιπών τιμών__ με __0__. Ο τρόπος που επιλέχθηκε να γίνει είναι με πίνακα της βιβλιοθήκης __numpy__. Παρακάτω αρχικοποιούμε τις διαστάσεις του πίνακα."
   ]
  },
  {
   "cell_type": "code",
   "execution_count": 11,
   "metadata": {},
   "outputs": [],
   "source": [
    "np_indexes = numpy.array(numpy.meshgrid(numpy.arange(1, df_mean_ratings.size + 1), numpy.arange(1, df_data_indexed_by_user.groupby('movieid').size().index.size + 1))).T.reshape(-1,2)"
   ]
  },
  {
   "cell_type": "markdown",
   "metadata": {},
   "source": [
    "#### Έχοντας αρχικοποιήσει τον πίνακα που θέλαμε, τον μετατρέπουμε σε τύπο __typle__ για να το μετατρέψουμε μετά σε dataframe."
   ]
  },
  {
   "cell_type": "code",
   "execution_count": 12,
   "metadata": {},
   "outputs": [],
   "source": [
    "tuples = tuple(map(tuple, np_indexes))"
   ]
  },
  {
   "cell_type": "markdown",
   "metadata": {},
   "source": [
    "#### Μετατρέπουμε το __tuple__ που φτιάξαμε πριν σε __dataframe__."
   ]
  },
  {
   "cell_type": "code",
   "execution_count": 13,
   "metadata": {},
   "outputs": [],
   "source": [
    "indexes = pandas.MultiIndex.from_tuples(tuples, names=['userid', 'movieid'])"
   ]
  },
  {
   "cell_type": "markdown",
   "metadata": {},
   "source": [
    "#### Μετατρέπουμε το __dataframe__ σε τύπο δεδομένων __series__. Πειραματικά κατέληξα στο συμπέρασμα ότι η διαχείρηση των δεδομένων με __Pandas Series__ είναι ελάχιστα πιο γρήγορη από τη διαχείρηση των δεδομένων με __Pandas Dataframes__."
   ]
  },
  {
   "cell_type": "code",
   "execution_count": 14,
   "metadata": {},
   "outputs": [],
   "source": [
    "s_data = pandas.Series(0, index=indexes)"
   ]
  },
  {
   "cell_type": "markdown",
   "metadata": {},
   "source": [
    "#### Εκτυπώνουμε τη μεταβλητή μας για να έχουμε εικόνα του τι έχουμε φτιαάξει."
   ]
  },
  {
   "cell_type": "code",
   "execution_count": 15,
   "metadata": {},
   "outputs": [
    {
     "data": {
      "text/plain": [
       "userid  movieid\n",
       "1       1          0\n",
       "        2          0\n",
       "        3          0\n",
       "        4          0\n",
       "        5          0\n",
       "                  ..\n",
       "943     1678       0\n",
       "        1679       0\n",
       "        1680       0\n",
       "        1681       0\n",
       "        1682       0\n",
       "Length: 1586126, dtype: int64"
      ]
     },
     "execution_count": 15,
     "metadata": {},
     "output_type": "execute_result"
    }
   ],
   "source": [
    "s_data"
   ]
  },
  {
   "cell_type": "markdown",
   "metadata": {},
   "source": [
    "#### Είμαστε έτοιμοι να ξανασυνεχίσουμε με dataframe. Κάνουμε οπότε __μετατροπή__ της μεταβλητής τύπου __series σε dataframe__."
   ]
  },
  {
   "cell_type": "code",
   "execution_count": 16,
   "metadata": {},
   "outputs": [],
   "source": [
    "df_zeros = s_data.to_frame().rename(columns={0: \"rating\"})"
   ]
  },
  {
   "cell_type": "markdown",
   "metadata": {},
   "source": [
    "#### Κάνουμε συγχώνευση του dataframe που έχει τις κριτικές με αυτό που έχει συμπληρωμένες τις ζητούμενες τιμές . Υπενθυμίζεται πως ο τρόπος συμπλήρωσης που επιλέχθηκε είναι συμπλήρωση με 0."
   ]
  },
  {
   "cell_type": "code",
   "execution_count": 17,
   "metadata": {},
   "outputs": [],
   "source": [
    "df_data_merged = pandas.merge(df_zeros, df_data_indexed_by_user, how='left', on=['userid', 'movieid'])"
   ]
  },
  {
   "cell_type": "markdown",
   "metadata": {},
   "source": [
    "#### Μετά από τη συγχώνευση, σχηματίζουμε και πάλι όπως θέλουμε το dataframe μας."
   ]
  },
  {
   "cell_type": "code",
   "execution_count": 18,
   "metadata": {},
   "outputs": [],
   "source": [
    "df_data_merged.drop(\"rating_x\", inplace = True, axis = 1)\n",
    "df_complete = df_data_merged.fillna(0)\n",
    "df_complete = df_complete.rename(columns={\"rating_y\": \"rating\"})"
   ]
  },
  {
   "cell_type": "markdown",
   "metadata": {},
   "source": [
    "#### Για να γίνει πιο εύκολα το κεντράρισμα, αρχικοποιείται ένας πίνακας με όλα τους μέσους όρους των χρηστών. Ο πίνακας έχει διαστάσεις __(αριθμός όλων των διακριτών χρηστών) x (αριθμό όλων των διακριτών ταινιών)__."
   ]
  },
  {
   "cell_type": "code",
   "execution_count": 19,
   "metadata": {},
   "outputs": [],
   "source": [
    "np_zeros = numpy.empty([df_mean_ratings.size + 1, df_data_indexed_by_user.groupby('movieid').size().index.size], dtype=float)\n",
    "for i in numpy.arange(1, df_mean_ratings.size + 1):\n",
    "    np_zeros[i] = numpy.repeat(float(df_mean_ratings.loc[i]), 1682)\n",
    "np_mean_ratings = numpy.delete(np_zeros, 0, 0)"
   ]
  },
  {
   "cell_type": "markdown",
   "metadata": {},
   "source": [
    "#### Ο πίνακας που φτιάξαμε φαίνεται παρακάτω."
   ]
  },
  {
   "cell_type": "code",
   "execution_count": 20,
   "metadata": {},
   "outputs": [
    {
     "data": {
      "text/plain": [
       "array([[3.61029412, 3.61029412, 3.61029412, ..., 3.61029412, 3.61029412,\n",
       "        3.61029412],\n",
       "       [3.70967742, 3.70967742, 3.70967742, ..., 3.70967742, 3.70967742,\n",
       "        3.70967742],\n",
       "       [2.7962963 , 2.7962963 , 2.7962963 , ..., 2.7962963 , 2.7962963 ,\n",
       "        2.7962963 ],\n",
       "       ...,\n",
       "       [4.04545455, 4.04545455, 4.04545455, ..., 4.04545455, 4.04545455,\n",
       "        4.04545455],\n",
       "       [4.26582278, 4.26582278, 4.26582278, ..., 4.26582278, 4.26582278,\n",
       "        4.26582278],\n",
       "       [3.41071429, 3.41071429, 3.41071429, ..., 3.41071429, 3.41071429,\n",
       "        3.41071429]])"
      ]
     },
     "execution_count": 20,
     "metadata": {},
     "output_type": "execute_result"
    }
   ],
   "source": [
    "np_mean_ratings"
   ]
  },
  {
   "cell_type": "markdown",
   "metadata": {},
   "source": [
    "#### Το επόμενο βήμα είναι να εντοπίσουμε τις κριτικές που έδωσαν οι χρήστες, και να αφαιρέσουμε από αυτές τη μέση βαθμολογία που αντιστοιχεί στο συγκεκριμένο χρήστη. Ουσιαστικά, παρακάτω γίνεται το __κεντράρισμα__. Κατά μέσο όρο, επειδή έχουμε να επεξεργαστούμε μεγάλο όγκο δεδομένων, και η python ειναι αργή γλώσσα, υπολογίζεται ότι __η παρακάτω διαδικασία θα διαρκέσει περίπου 10 λεπτά__."
   ]
  },
  {
   "cell_type": "code",
   "execution_count": 21,
   "metadata": {},
   "outputs": [
    {
     "name": "stdout",
     "output_type": "stream",
     "text": [
      "Total time:  298  seconds.\n"
     ]
    }
   ],
   "source": [
    "start = time.time()\n",
    "for i,j in df_complete.index:\n",
    "    if df_complete.loc[(i,j), 'rating'] != 0:\n",
    "        df_complete.loc[i,j] = df_complete.loc[(i,j), 'rating'] - np_mean_ratings[i - 1][j - 1]\n",
    "end = time.time()\n",
    "print(\"Total time: \", int(end - start) + 1, \" seconds.\")"
   ]
  },
  {
   "cell_type": "markdown",
   "metadata": {},
   "source": [
    "#### Μετά από τη συμπλήρωση των ελλειπών τιμών και το κεντράρισμα, είμαστε σε θέση να __κάνουμε__ την __κανονικοποίηση__. Η κανονικοποίηση γίνεται στη στήλη των __ratings__."
   ]
  },
  {
   "cell_type": "code",
   "execution_count": 22,
   "metadata": {},
   "outputs": [],
   "source": [
    "ratings = df_complete.values\n",
    "min_max_scaler = sklearn.preprocessing.MinMaxScaler()\n",
    "ratings_scaled = min_max_scaler.fit_transform(ratings)\n",
    "df_complete.loc[:, ('rating')] = ratings_scaled"
   ]
  },
  {
   "cell_type": "markdown",
   "metadata": {},
   "source": [
    "#### Σε αυτό το σημείο έχει τελειώσει η προεπεξεργασία των δεδομένων. Το splitting για __το 5-fold cross validation γίνεται σε επόμενο τετράδιο__."
   ]
  },
  {
   "cell_type": "code",
   "execution_count": 23,
   "metadata": {},
   "outputs": [],
   "source": [
    "df_complete.to_csv('/home/andreas/data/complete_normalized_data.csv', encoding='utf-8')"
   ]
  },
  {
   "cell_type": "markdown",
   "metadata": {},
   "source": [
    "#### Παρακάτω μετατρέπουμε σε μορφή __μητρώου__ τα δεδομένα μας."
   ]
  },
  {
   "cell_type": "code",
   "execution_count": 24,
   "metadata": {},
   "outputs": [],
   "source": [
    "df_tabular = df_complete.reset_index().pivot(index='userid', columns='movieid', values='rating')"
   ]
  },
  {
   "cell_type": "markdown",
   "metadata": {},
   "source": [
    "#### Το μητρώο που δημιουργήσαμε φαίνεται παρακάτω."
   ]
  },
  {
   "cell_type": "code",
   "execution_count": 25,
   "metadata": {},
   "outputs": [
    {
     "data": {
      "text/html": [
       "<div>\n",
       "<style scoped>\n",
       "    .dataframe tbody tr th:only-of-type {\n",
       "        vertical-align: middle;\n",
       "    }\n",
       "\n",
       "    .dataframe tbody tr th {\n",
       "        vertical-align: top;\n",
       "    }\n",
       "\n",
       "    .dataframe thead th {\n",
       "        text-align: right;\n",
       "    }\n",
       "</style>\n",
       "<table border=\"1\" class=\"dataframe\">\n",
       "  <thead>\n",
       "    <tr style=\"text-align: right;\">\n",
       "      <th>movieid</th>\n",
       "      <th>1</th>\n",
       "      <th>2</th>\n",
       "      <th>3</th>\n",
       "      <th>4</th>\n",
       "      <th>5</th>\n",
       "      <th>6</th>\n",
       "      <th>7</th>\n",
       "      <th>8</th>\n",
       "      <th>9</th>\n",
       "      <th>10</th>\n",
       "      <th>...</th>\n",
       "      <th>1673</th>\n",
       "      <th>1674</th>\n",
       "      <th>1675</th>\n",
       "      <th>1676</th>\n",
       "      <th>1677</th>\n",
       "      <th>1678</th>\n",
       "      <th>1679</th>\n",
       "      <th>1680</th>\n",
       "      <th>1681</th>\n",
       "      <th>1682</th>\n",
       "    </tr>\n",
       "    <tr>\n",
       "      <th>userid</th>\n",
       "      <th></th>\n",
       "      <th></th>\n",
       "      <th></th>\n",
       "      <th></th>\n",
       "      <th></th>\n",
       "      <th></th>\n",
       "      <th></th>\n",
       "      <th></th>\n",
       "      <th></th>\n",
       "      <th></th>\n",
       "      <th></th>\n",
       "      <th></th>\n",
       "      <th></th>\n",
       "      <th></th>\n",
       "      <th></th>\n",
       "      <th></th>\n",
       "      <th></th>\n",
       "      <th></th>\n",
       "      <th></th>\n",
       "      <th></th>\n",
       "      <th></th>\n",
       "    </tr>\n",
       "  </thead>\n",
       "  <tbody>\n",
       "    <tr>\n",
       "      <th>1</th>\n",
       "      <td>0.707095</td>\n",
       "      <td>0.430554</td>\n",
       "      <td>0.568825</td>\n",
       "      <td>0.430554</td>\n",
       "      <td>0.430554</td>\n",
       "      <td>0.707095</td>\n",
       "      <td>0.568825</td>\n",
       "      <td>0.154012</td>\n",
       "      <td>0.707095</td>\n",
       "      <td>0.430554</td>\n",
       "      <td>...</td>\n",
       "      <td>0.51494</td>\n",
       "      <td>0.51494</td>\n",
       "      <td>0.51494</td>\n",
       "      <td>0.51494</td>\n",
       "      <td>0.51494</td>\n",
       "      <td>0.51494</td>\n",
       "      <td>0.51494</td>\n",
       "      <td>0.51494</td>\n",
       "      <td>0.51494</td>\n",
       "      <td>0.51494</td>\n",
       "    </tr>\n",
       "    <tr>\n",
       "      <th>2</th>\n",
       "      <td>0.555083</td>\n",
       "      <td>0.514940</td>\n",
       "      <td>0.514940</td>\n",
       "      <td>0.514940</td>\n",
       "      <td>0.514940</td>\n",
       "      <td>0.514940</td>\n",
       "      <td>0.514940</td>\n",
       "      <td>0.514940</td>\n",
       "      <td>0.514940</td>\n",
       "      <td>0.278541</td>\n",
       "      <td>...</td>\n",
       "      <td>0.51494</td>\n",
       "      <td>0.51494</td>\n",
       "      <td>0.51494</td>\n",
       "      <td>0.51494</td>\n",
       "      <td>0.51494</td>\n",
       "      <td>0.51494</td>\n",
       "      <td>0.51494</td>\n",
       "      <td>0.51494</td>\n",
       "      <td>0.51494</td>\n",
       "      <td>0.51494</td>\n",
       "    </tr>\n",
       "    <tr>\n",
       "      <th>3</th>\n",
       "      <td>0.514940</td>\n",
       "      <td>0.514940</td>\n",
       "      <td>0.514940</td>\n",
       "      <td>0.514940</td>\n",
       "      <td>0.514940</td>\n",
       "      <td>0.514940</td>\n",
       "      <td>0.514940</td>\n",
       "      <td>0.514940</td>\n",
       "      <td>0.514940</td>\n",
       "      <td>0.514940</td>\n",
       "      <td>...</td>\n",
       "      <td>0.51494</td>\n",
       "      <td>0.51494</td>\n",
       "      <td>0.51494</td>\n",
       "      <td>0.51494</td>\n",
       "      <td>0.51494</td>\n",
       "      <td>0.51494</td>\n",
       "      <td>0.51494</td>\n",
       "      <td>0.51494</td>\n",
       "      <td>0.51494</td>\n",
       "      <td>0.51494</td>\n",
       "    </tr>\n",
       "    <tr>\n",
       "      <th>4</th>\n",
       "      <td>0.514940</td>\n",
       "      <td>0.514940</td>\n",
       "      <td>0.514940</td>\n",
       "      <td>0.514940</td>\n",
       "      <td>0.514940</td>\n",
       "      <td>0.514940</td>\n",
       "      <td>0.514940</td>\n",
       "      <td>0.514940</td>\n",
       "      <td>0.514940</td>\n",
       "      <td>0.514940</td>\n",
       "      <td>...</td>\n",
       "      <td>0.51494</td>\n",
       "      <td>0.51494</td>\n",
       "      <td>0.51494</td>\n",
       "      <td>0.51494</td>\n",
       "      <td>0.51494</td>\n",
       "      <td>0.51494</td>\n",
       "      <td>0.51494</td>\n",
       "      <td>0.51494</td>\n",
       "      <td>0.51494</td>\n",
       "      <td>0.51494</td>\n",
       "    </tr>\n",
       "    <tr>\n",
       "      <th>5</th>\n",
       "      <td>0.670593</td>\n",
       "      <td>0.532322</td>\n",
       "      <td>0.514940</td>\n",
       "      <td>0.514940</td>\n",
       "      <td>0.514940</td>\n",
       "      <td>0.514940</td>\n",
       "      <td>0.514940</td>\n",
       "      <td>0.514940</td>\n",
       "      <td>0.514940</td>\n",
       "      <td>0.514940</td>\n",
       "      <td>...</td>\n",
       "      <td>0.51494</td>\n",
       "      <td>0.51494</td>\n",
       "      <td>0.51494</td>\n",
       "      <td>0.51494</td>\n",
       "      <td>0.51494</td>\n",
       "      <td>0.51494</td>\n",
       "      <td>0.51494</td>\n",
       "      <td>0.51494</td>\n",
       "      <td>0.51494</td>\n",
       "      <td>0.51494</td>\n",
       "    </tr>\n",
       "    <tr>\n",
       "      <th>...</th>\n",
       "      <td>...</td>\n",
       "      <td>...</td>\n",
       "      <td>...</td>\n",
       "      <td>...</td>\n",
       "      <td>...</td>\n",
       "      <td>...</td>\n",
       "      <td>...</td>\n",
       "      <td>...</td>\n",
       "      <td>...</td>\n",
       "      <td>...</td>\n",
       "      <td>...</td>\n",
       "      <td>...</td>\n",
       "      <td>...</td>\n",
       "      <td>...</td>\n",
       "      <td>...</td>\n",
       "      <td>...</td>\n",
       "      <td>...</td>\n",
       "      <td>...</td>\n",
       "      <td>...</td>\n",
       "      <td>...</td>\n",
       "      <td>...</td>\n",
       "    </tr>\n",
       "    <tr>\n",
       "      <th>939</th>\n",
       "      <td>0.514940</td>\n",
       "      <td>0.514940</td>\n",
       "      <td>0.514940</td>\n",
       "      <td>0.514940</td>\n",
       "      <td>0.514940</td>\n",
       "      <td>0.514940</td>\n",
       "      <td>0.514940</td>\n",
       "      <td>0.514940</td>\n",
       "      <td>0.616526</td>\n",
       "      <td>0.514940</td>\n",
       "      <td>...</td>\n",
       "      <td>0.51494</td>\n",
       "      <td>0.51494</td>\n",
       "      <td>0.51494</td>\n",
       "      <td>0.51494</td>\n",
       "      <td>0.51494</td>\n",
       "      <td>0.51494</td>\n",
       "      <td>0.51494</td>\n",
       "      <td>0.51494</td>\n",
       "      <td>0.51494</td>\n",
       "      <td>0.51494</td>\n",
       "    </tr>\n",
       "    <tr>\n",
       "      <th>940</th>\n",
       "      <td>0.514940</td>\n",
       "      <td>0.514940</td>\n",
       "      <td>0.514940</td>\n",
       "      <td>0.313349</td>\n",
       "      <td>0.514940</td>\n",
       "      <td>0.514940</td>\n",
       "      <td>0.589890</td>\n",
       "      <td>0.728161</td>\n",
       "      <td>0.451619</td>\n",
       "      <td>0.514940</td>\n",
       "      <td>...</td>\n",
       "      <td>0.51494</td>\n",
       "      <td>0.51494</td>\n",
       "      <td>0.51494</td>\n",
       "      <td>0.51494</td>\n",
       "      <td>0.51494</td>\n",
       "      <td>0.51494</td>\n",
       "      <td>0.51494</td>\n",
       "      <td>0.51494</td>\n",
       "      <td>0.51494</td>\n",
       "      <td>0.51494</td>\n",
       "    </tr>\n",
       "    <tr>\n",
       "      <th>941</th>\n",
       "      <td>0.646925</td>\n",
       "      <td>0.514940</td>\n",
       "      <td>0.514940</td>\n",
       "      <td>0.514940</td>\n",
       "      <td>0.514940</td>\n",
       "      <td>0.514940</td>\n",
       "      <td>0.508655</td>\n",
       "      <td>0.514940</td>\n",
       "      <td>0.514940</td>\n",
       "      <td>0.514940</td>\n",
       "      <td>...</td>\n",
       "      <td>0.51494</td>\n",
       "      <td>0.51494</td>\n",
       "      <td>0.51494</td>\n",
       "      <td>0.51494</td>\n",
       "      <td>0.51494</td>\n",
       "      <td>0.51494</td>\n",
       "      <td>0.51494</td>\n",
       "      <td>0.51494</td>\n",
       "      <td>0.51494</td>\n",
       "      <td>0.51494</td>\n",
       "    </tr>\n",
       "    <tr>\n",
       "      <th>942</th>\n",
       "      <td>0.514940</td>\n",
       "      <td>0.514940</td>\n",
       "      <td>0.514940</td>\n",
       "      <td>0.514940</td>\n",
       "      <td>0.514940</td>\n",
       "      <td>0.514940</td>\n",
       "      <td>0.514940</td>\n",
       "      <td>0.514940</td>\n",
       "      <td>0.514940</td>\n",
       "      <td>0.514940</td>\n",
       "      <td>...</td>\n",
       "      <td>0.51494</td>\n",
       "      <td>0.51494</td>\n",
       "      <td>0.51494</td>\n",
       "      <td>0.51494</td>\n",
       "      <td>0.51494</td>\n",
       "      <td>0.51494</td>\n",
       "      <td>0.51494</td>\n",
       "      <td>0.51494</td>\n",
       "      <td>0.51494</td>\n",
       "      <td>0.51494</td>\n",
       "    </tr>\n",
       "    <tr>\n",
       "      <th>943</th>\n",
       "      <td>0.514940</td>\n",
       "      <td>0.734691</td>\n",
       "      <td>0.514940</td>\n",
       "      <td>0.514940</td>\n",
       "      <td>0.514940</td>\n",
       "      <td>0.514940</td>\n",
       "      <td>0.514940</td>\n",
       "      <td>0.514940</td>\n",
       "      <td>0.458150</td>\n",
       "      <td>0.514940</td>\n",
       "      <td>...</td>\n",
       "      <td>0.51494</td>\n",
       "      <td>0.51494</td>\n",
       "      <td>0.51494</td>\n",
       "      <td>0.51494</td>\n",
       "      <td>0.51494</td>\n",
       "      <td>0.51494</td>\n",
       "      <td>0.51494</td>\n",
       "      <td>0.51494</td>\n",
       "      <td>0.51494</td>\n",
       "      <td>0.51494</td>\n",
       "    </tr>\n",
       "  </tbody>\n",
       "</table>\n",
       "<p>943 rows × 1682 columns</p>\n",
       "</div>"
      ],
      "text/plain": [
       "movieid      1         2         3         4         5         6         7     \\\n",
       "userid                                                                          \n",
       "1        0.707095  0.430554  0.568825  0.430554  0.430554  0.707095  0.568825   \n",
       "2        0.555083  0.514940  0.514940  0.514940  0.514940  0.514940  0.514940   \n",
       "3        0.514940  0.514940  0.514940  0.514940  0.514940  0.514940  0.514940   \n",
       "4        0.514940  0.514940  0.514940  0.514940  0.514940  0.514940  0.514940   \n",
       "5        0.670593  0.532322  0.514940  0.514940  0.514940  0.514940  0.514940   \n",
       "...           ...       ...       ...       ...       ...       ...       ...   \n",
       "939      0.514940  0.514940  0.514940  0.514940  0.514940  0.514940  0.514940   \n",
       "940      0.514940  0.514940  0.514940  0.313349  0.514940  0.514940  0.589890   \n",
       "941      0.646925  0.514940  0.514940  0.514940  0.514940  0.514940  0.508655   \n",
       "942      0.514940  0.514940  0.514940  0.514940  0.514940  0.514940  0.514940   \n",
       "943      0.514940  0.734691  0.514940  0.514940  0.514940  0.514940  0.514940   \n",
       "\n",
       "movieid      8         9         10    ...     1673     1674     1675  \\\n",
       "userid                                 ...                              \n",
       "1        0.154012  0.707095  0.430554  ...  0.51494  0.51494  0.51494   \n",
       "2        0.514940  0.514940  0.278541  ...  0.51494  0.51494  0.51494   \n",
       "3        0.514940  0.514940  0.514940  ...  0.51494  0.51494  0.51494   \n",
       "4        0.514940  0.514940  0.514940  ...  0.51494  0.51494  0.51494   \n",
       "5        0.514940  0.514940  0.514940  ...  0.51494  0.51494  0.51494   \n",
       "...           ...       ...       ...  ...      ...      ...      ...   \n",
       "939      0.514940  0.616526  0.514940  ...  0.51494  0.51494  0.51494   \n",
       "940      0.728161  0.451619  0.514940  ...  0.51494  0.51494  0.51494   \n",
       "941      0.514940  0.514940  0.514940  ...  0.51494  0.51494  0.51494   \n",
       "942      0.514940  0.514940  0.514940  ...  0.51494  0.51494  0.51494   \n",
       "943      0.514940  0.458150  0.514940  ...  0.51494  0.51494  0.51494   \n",
       "\n",
       "movieid     1676     1677     1678     1679     1680     1681     1682  \n",
       "userid                                                                  \n",
       "1        0.51494  0.51494  0.51494  0.51494  0.51494  0.51494  0.51494  \n",
       "2        0.51494  0.51494  0.51494  0.51494  0.51494  0.51494  0.51494  \n",
       "3        0.51494  0.51494  0.51494  0.51494  0.51494  0.51494  0.51494  \n",
       "4        0.51494  0.51494  0.51494  0.51494  0.51494  0.51494  0.51494  \n",
       "5        0.51494  0.51494  0.51494  0.51494  0.51494  0.51494  0.51494  \n",
       "...          ...      ...      ...      ...      ...      ...      ...  \n",
       "939      0.51494  0.51494  0.51494  0.51494  0.51494  0.51494  0.51494  \n",
       "940      0.51494  0.51494  0.51494  0.51494  0.51494  0.51494  0.51494  \n",
       "941      0.51494  0.51494  0.51494  0.51494  0.51494  0.51494  0.51494  \n",
       "942      0.51494  0.51494  0.51494  0.51494  0.51494  0.51494  0.51494  \n",
       "943      0.51494  0.51494  0.51494  0.51494  0.51494  0.51494  0.51494  \n",
       "\n",
       "[943 rows x 1682 columns]"
      ]
     },
     "execution_count": 25,
     "metadata": {},
     "output_type": "execute_result"
    }
   ],
   "source": [
    "df_tabular"
   ]
  },
  {
   "cell_type": "code",
   "execution_count": null,
   "metadata": {},
   "outputs": [],
   "source": []
  }
 ],
 "metadata": {
  "kernelspec": {
   "display_name": "Python 3",
   "language": "python",
   "name": "python3"
  },
  "language_info": {
   "codemirror_mode": {
    "name": "ipython",
    "version": 3
   },
   "file_extension": ".py",
   "mimetype": "text/x-python",
   "name": "python",
   "nbconvert_exporter": "python",
   "pygments_lexer": "ipython3",
   "version": "3.7.7"
  }
 },
 "nbformat": 4,
 "nbformat_minor": 4
}
